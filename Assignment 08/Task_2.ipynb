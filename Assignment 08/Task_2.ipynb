{
  "nbformat": 4,
  "nbformat_minor": 0,
  "metadata": {
    "colab": {
      "provenance": []
    },
    "kernelspec": {
      "name": "python3",
      "display_name": "Python 3"
    },
    "language_info": {
      "name": "python"
    }
  },
  "cells": [
    {
      "cell_type": "code",
      "source": [
        "def max_vertex_weight_matrix(vertex):\n",
        "  maxWei = 0\n",
        "  VertMax = None\n",
        "  for row in range(vertex.vertices + 1):\n",
        "    Vert = 0\n",
        "    for add in vertex.graph[row]:\n",
        "      if add != 0:\n",
        "        Vert += add\n",
        "    if Vert > maxWei:\n",
        "      maxWei = Vert\n",
        "      VertMax = row\n",
        "  return f\"Vertex: {VertMax} and Total weight: {maxWei}\"\n",
        "\n",
        "graph = AdjacencyMatrix(8)\n",
        "graph.undirected_matrix_edge(1, 2, 5)\n",
        "graph.undirected_matrix_edge(1, 7, 6)\n",
        "graph.undirected_matrix_edge(1, 8, 8)\n",
        "graph.undirected_matrix_edge(2, 3, 4)\n",
        "graph.undirected_matrix_edge(2, 7, 9)\n",
        "graph.undirected_matrix_edge(2, 8, 3)\n",
        "graph.undirected_matrix_edge(3, 4, 5)\n",
        "graph.undirected_matrix_edge(3, 5, 7)\n",
        "graph.undirected_matrix_edge(3, 8, 4)\n",
        "graph.undirected_matrix_edge(4, 5, 6)\n",
        "graph.undirected_matrix_edge(4, 8, 9)\n",
        "graph.undirected_matrix_edge(5, 6, 5)\n",
        "graph.undirected_matrix_edge(5, 7, 6)\n",
        "graph.undirected_matrix_edge(5, 8, 3)\n",
        "graph.undirected_matrix_edge(6, 7, 5)\n",
        "graph.undirected_matrix_edge(6, 8, 8)\n",
        "graph.undirected_matrix_edge(7, 8, 3)\n",
        "display_matrix(graph)\n",
        "print(max_vertex_weight_matrix(graph))"
      ],
      "metadata": {
        "colab": {
          "base_uri": "https://localhost:8080/"
        },
        "id": "1rhNFWdTEmvH",
        "outputId": "97f7f19d-f85b-4ec9-9ded-4a13963c57a3"
      },
      "execution_count": 9,
      "outputs": [
        {
          "output_type": "stream",
          "name": "stdout",
          "text": [
            "[0 0 0 0 0 0 0 0 0]\n",
            "[0 0 5 0 0 0 0 6 8]\n",
            "[0 5 0 4 0 0 0 9 3]\n",
            "[0 0 4 0 5 7 0 0 4]\n",
            "[0 0 0 5 0 6 0 0 9]\n",
            "[0 0 0 7 6 0 5 6 3]\n",
            "[0 0 0 0 0 5 0 5 8]\n",
            "[0 6 9 0 0 6 5 0 3]\n",
            "[0 8 3 4 9 3 8 3 0]\n",
            "Vertex: 8 and Total weight: 38\n"
          ]
        }
      ]
    },
    {
      "cell_type": "code",
      "source": [
        "def max_vertex_weight_list(vertex):\n",
        "  maxVert = 0\n",
        "  VertMax = None\n",
        "  for x in range(1, vertex.vertices + 1):\n",
        "    Vert = 0\n",
        "    temp = vertex.graph[x]\n",
        "    while temp != None:\n",
        "      Vert += temp.weight\n",
        "      temp = temp.next\n",
        "    if Vert > maxVert:\n",
        "      maxVert = Vert\n",
        "      VertMax = x\n",
        "  return f\"Vertex: {VertMax} and Total weight: {maxVert}\"\n",
        "\n",
        "graph = AdjacencyList(8)\n",
        "graph.undirected_list_edge(1, 2, 5)\n",
        "graph.undirected_list_edge(1, 7, 6)\n",
        "graph.undirected_list_edge(1, 8, 8)\n",
        "graph.undirected_list_edge(2, 3, 4)\n",
        "graph.undirected_list_edge(2, 7, 9)\n",
        "graph.undirected_list_edge(2, 8, 3)\n",
        "graph.undirected_list_edge(3, 4, 5)\n",
        "graph.undirected_list_edge(3, 5, 7)\n",
        "graph.undirected_list_edge(3, 8, 4)\n",
        "graph.undirected_list_edge(4, 5, 6)\n",
        "graph.undirected_list_edge(4, 8, 9)\n",
        "graph.undirected_list_edge(5, 6, 5)\n",
        "graph.undirected_list_edge(5, 7, 6)\n",
        "graph.undirected_list_edge(5, 8, 3)\n",
        "graph.undirected_list_edge(6, 7, 5)\n",
        "graph.undirected_list_edge(6, 8, 8)\n",
        "graph.undirected_list_edge(7, 8, 3)\n",
        "display_list(graph)\n",
        "print(max_vertex_weight_list(graph))"
      ],
      "metadata": {
        "colab": {
          "base_uri": "https://localhost:8080/"
        },
        "id": "eDNjw2RCEo3n",
        "outputId": "c291e619-4c39-4106-ccbf-e9c78e29caf8"
      },
      "execution_count": 10,
      "outputs": [
        {
          "output_type": "stream",
          "name": "stdout",
          "text": [
            "1: 2 -> 7 -> 8\n",
            "2: 1 -> 3 -> 7 -> 8\n",
            "3: 2 -> 4 -> 5 -> 8\n",
            "4: 3 -> 5 -> 8\n",
            "5: 3 -> 4 -> 6 -> 7 -> 8\n",
            "6: 5 -> 7 -> 8\n",
            "7: 1 -> 2 -> 5 -> 6 -> 8\n",
            "8: 1 -> 2 -> 3 -> 4 -> 5 -> 6 -> 7\n",
            "Vertex: 8 and Total weight: 38\n"
          ]
        }
      ]
    }
  ]
}