{
  "nbformat": 4,
  "nbformat_minor": 0,
  "metadata": {
    "colab": {
      "provenance": []
    },
    "kernelspec": {
      "name": "python3",
      "display_name": "Python 3"
    },
    "language_info": {
      "name": "python"
    }
  },
  "cells": [
    {
      "cell_type": "code",
      "source": [
        "def max_vertex_degree_matrix(vertex):\n",
        "  maxVert = 0\n",
        "  VertMax = None\n",
        "  for row in range(vertex.vertices + 1):\n",
        "    Vert = 0\n",
        "    for add in vertex.graph[row]:\n",
        "      if add != 0:\n",
        "        Vert += 1\n",
        "    if Vert > maxVert:\n",
        "      maxVert = Vert\n",
        "      VertMax = row\n",
        "  return f\"Vertex: {VertMax} and Vertices: {maxVert}\"\n",
        "\n",
        "graph = AdjacencyMatrix(8)\n",
        "graph.undirected_matrix_edge(1, 2)\n",
        "graph.undirected_matrix_edge(1, 7)\n",
        "graph.undirected_matrix_edge(1, 8)\n",
        "graph.undirected_matrix_edge(2, 3)\n",
        "graph.undirected_matrix_edge(2, 7)\n",
        "graph.undirected_matrix_edge(2, 8)\n",
        "graph.undirected_matrix_edge(3, 4)\n",
        "graph.undirected_matrix_edge(3, 5)\n",
        "graph.undirected_matrix_edge(3, 8)\n",
        "graph.undirected_matrix_edge(4, 5)\n",
        "graph.undirected_matrix_edge(4, 8)\n",
        "graph.undirected_matrix_edge(5, 6)\n",
        "graph.undirected_matrix_edge(5, 7)\n",
        "graph.undirected_matrix_edge(5, 8)\n",
        "graph.undirected_matrix_edge(6, 7)\n",
        "graph.undirected_matrix_edge(6, 8)\n",
        "graph.undirected_matrix_edge(7, 8)\n",
        "display_matrix(graph)\n",
        "print(max_vertex_degree_matrix(graph))"
      ],
      "metadata": {
        "colab": {
          "base_uri": "https://localhost:8080/"
        },
        "id": "1rhNFWdTEmvH",
        "outputId": "8e523034-47d1-4553-e164-16a172066aca"
      },
      "execution_count": 6,
      "outputs": [
        {
          "output_type": "stream",
          "name": "stdout",
          "text": [
            "[0 0 0 0 0 0 0 0 0]\n",
            "[0 0 1 0 0 0 0 1 1]\n",
            "[0 1 0 1 0 0 0 1 1]\n",
            "[0 0 1 0 1 1 0 0 1]\n",
            "[0 0 0 1 0 1 0 0 1]\n",
            "[0 0 0 1 1 0 1 1 1]\n",
            "[0 0 0 0 0 1 0 1 1]\n",
            "[0 1 1 0 0 1 1 0 1]\n",
            "[0 1 1 1 1 1 1 1 0]\n",
            "Vertex: 8 and Vertices: 7\n"
          ]
        }
      ]
    },
    {
      "cell_type": "code",
      "source": [
        "def max_vertex_degree_list(vertex):\n",
        "  maxVert = 0\n",
        "  VertMax = None\n",
        "  for x in range(vertex.vertices + 1):\n",
        "    Vert = 0\n",
        "    temp = vertex.graph[x]\n",
        "    while temp != None:\n",
        "      Vert += 1\n",
        "      temp = temp.next\n",
        "    if Vert > maxVert:\n",
        "      maxVert = Vert\n",
        "      VertMax = x\n",
        "  return f\"Vertex: {VertMax} and Vertices: {maxVert}\"\n",
        "\n",
        "graph = AdjacencyList(8)\n",
        "graph.undirected_list_edge(1, 2)\n",
        "graph.undirected_list_edge(1, 7)\n",
        "graph.undirected_list_edge(1, 8)\n",
        "graph.undirected_list_edge(2, 3)\n",
        "graph.undirected_list_edge(2, 7)\n",
        "graph.undirected_list_edge(2, 8)\n",
        "graph.undirected_list_edge(3, 4)\n",
        "graph.undirected_list_edge(3, 5)\n",
        "graph.undirected_list_edge(3, 8)\n",
        "graph.undirected_list_edge(4, 5)\n",
        "graph.undirected_list_edge(4, 8)\n",
        "graph.undirected_list_edge(5, 6)\n",
        "graph.undirected_list_edge(5, 7)\n",
        "graph.undirected_list_edge(5, 8)\n",
        "graph.undirected_list_edge(6, 7)\n",
        "graph.undirected_list_edge(6, 8)\n",
        "graph.undirected_list_edge(7, 8)\n",
        "display_list(graph)\n",
        "print(max_vertex_degree_list(graph))"
      ],
      "metadata": {
        "colab": {
          "base_uri": "https://localhost:8080/"
        },
        "id": "eDNjw2RCEo3n",
        "outputId": "ad1cf71b-d720-4dde-f593-8b58cedb62c0"
      },
      "execution_count": 7,
      "outputs": [
        {
          "output_type": "stream",
          "name": "stdout",
          "text": [
            "1: 2 -> 7 -> 8\n",
            "2: 1 -> 3 -> 7 -> 8\n",
            "3: 2 -> 4 -> 5 -> 8\n",
            "4: 3 -> 5 -> 8\n",
            "5: 3 -> 4 -> 6 -> 7 -> 8\n",
            "6: 5 -> 7 -> 8\n",
            "7: 1 -> 2 -> 5 -> 6 -> 8\n",
            "8: 1 -> 2 -> 3 -> 4 -> 5 -> 6 -> 7\n",
            "Vertex: 8 and Vertices: 7\n"
          ]
        }
      ]
    }
  ]
}