{
  "nbformat": 4,
  "nbformat_minor": 0,
  "metadata": {
    "colab": {
      "provenance": []
    },
    "kernelspec": {
      "name": "python3",
      "display_name": "Python 3"
    },
    "language_info": {
      "name": "python"
    }
  },
  "cells": [
    {
      "cell_type": "code",
      "source": [
        "import numpy as np\n",
        "class Node:\n",
        "  def __init__(self, vertex, weight = None, next = None, ):\n",
        "    self.vertex = vertex\n",
        "    self.weight = weight\n",
        "    self.next = next\n",
        "\n",
        "class AdjacencyList:\n",
        "  def __init__(self, vertices):\n",
        "    self.vertices = vertices\n",
        "    self.graph = np.array([None] * (vertices + 1))\n",
        "  def undirected_list_edge(self, x, y, w = None):\n",
        "    if self.graph[x] == None:\n",
        "      self.graph[x] = Node(y, w)\n",
        "    else:\n",
        "      temp = self.graph[x]\n",
        "      while temp.next != None:\n",
        "        temp = temp.next\n",
        "      temp.next = Node(y, w)\n",
        "    if self.graph[y] == None:\n",
        "      self.graph[y] = Node(x, w)\n",
        "    else:\n",
        "      temp = self.graph[y]\n",
        "      while temp.next != None:\n",
        "        temp = temp.next\n",
        "      temp.next = Node(x, w)\n",
        "  def directed_list_edge(self, x, y, w = None):\n",
        "    if self.graph[x] == None:\n",
        "      self.graph[x] = Node(y, w)\n",
        "    else:\n",
        "      temp = self.graph[x]\n",
        "      while temp.next != None:\n",
        "        temp = temp.next\n",
        "      temp.next = Node(y, w)\n",
        "\n",
        "def display_list(present):\n",
        "  for x in range(1, present.vertices + 1):\n",
        "    temp = present.graph[x]\n",
        "    print(f\"{x}:\", end = \" \")\n",
        "    while temp != None:\n",
        "      if temp.next == None:\n",
        "        print(temp.vertex)\n",
        "        temp = temp.next\n",
        "      else:\n",
        "        print(temp.vertex, \"-> \", end = \"\")\n",
        "        temp = temp.next"
      ],
      "metadata": {
        "id": "55_JYX_zvE7J"
      },
      "execution_count": 4,
      "outputs": []
    }
  ]
}