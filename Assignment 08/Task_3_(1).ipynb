{
  "nbformat": 4,
  "nbformat_minor": 0,
  "metadata": {
    "colab": {
      "provenance": []
    },
    "kernelspec": {
      "name": "python3",
      "display_name": "Python 3"
    },
    "language_info": {
      "name": "python"
    }
  },
  "cells": [
    {
      "cell_type": "code",
      "source": [
        "def max_vertex_degree_Dimatrix(vertex):\n",
        "  maxVert = 0\n",
        "  VertMax = None\n",
        "  for row in range(vertex.vertices + 1):\n",
        "    Vert = 0\n",
        "    for add in vertex.graph[row]:\n",
        "      if add != 0:\n",
        "        Vert += 1\n",
        "    if Vert > maxVert:\n",
        "      maxVert = Vert\n",
        "      VertMax = row\n",
        "  return f\"Vertex: {VertMax} and Vertices: {maxVert}\"\n",
        "\n",
        "graph = AdjacencyMatrix(8)\n",
        "graph.directed_matrix_edge(1, 2, 5)\n",
        "graph.directed_matrix_edge(1, 7, 6)\n",
        "graph.directed_matrix_edge(1, 8, 8)\n",
        "graph.directed_matrix_edge(2, 3, 4)\n",
        "graph.directed_matrix_edge(2, 7, 9)\n",
        "graph.directed_matrix_edge(2, 8, 3)\n",
        "graph.directed_matrix_edge(3, 4, 5)\n",
        "graph.directed_matrix_edge(3, 5, 7)\n",
        "graph.directed_matrix_edge(4, 8, 4)\n",
        "graph.directed_matrix_edge(5, 4, 6)\n",
        "graph.directed_matrix_edge(5, 6, 9)\n",
        "graph.directed_matrix_edge(5, 7, 5)\n",
        "graph.directed_matrix_edge(5, 8, 6)\n",
        "graph.directed_matrix_edge(6, 7, 3)\n",
        "graph.directed_matrix_edge(7, 8, 5)\n",
        "graph.directed_matrix_edge(8, 6, 8)\n",
        "graph.directed_matrix_edge(8, 3, 3)\n",
        "display_matrix(graph)\n",
        "print(max_vertex_degree_Dimatrix(graph))"
      ],
      "metadata": {
        "colab": {
          "base_uri": "https://localhost:8080/"
        },
        "id": "1rhNFWdTEmvH",
        "outputId": "8a31405c-449c-4e9c-a41a-99c25720c99d"
      },
      "execution_count": 12,
      "outputs": [
        {
          "output_type": "stream",
          "name": "stdout",
          "text": [
            "[0 0 0 0 0 0 0 0 0]\n",
            "[0 0 5 0 0 0 0 6 8]\n",
            "[0 0 0 4 0 0 0 9 3]\n",
            "[0 0 0 0 5 7 0 0 0]\n",
            "[0 0 0 0 0 0 0 0 4]\n",
            "[0 0 0 0 6 0 9 5 6]\n",
            "[0 0 0 0 0 0 0 3 0]\n",
            "[0 0 0 0 0 0 0 0 5]\n",
            "[0 0 0 3 0 0 8 0 0]\n",
            "Vertex: 5 and Vertices: 4\n"
          ]
        }
      ]
    },
    {
      "cell_type": "code",
      "source": [
        "def max_vertex_degree_Dilist(vertex):\n",
        "  maxVert = 0\n",
        "  VertMax = None\n",
        "  for x in range(vertex.vertices + 1):\n",
        "    Vert = 0\n",
        "    temp = vertex.graph[x]\n",
        "    while temp != None:\n",
        "      Vert += 1\n",
        "      temp = temp.next\n",
        "    if Vert > maxVert:\n",
        "      maxVert = Vert\n",
        "      VertMax = x\n",
        "  return f\"Vertex: {VertMax} and Vertices: {maxVert}\"\n",
        "\n",
        "graph = AdjacencyList(8)\n",
        "graph.directed_list_edge(1, 2, 5)\n",
        "graph.directed_list_edge(1, 7, 6)\n",
        "graph.directed_list_edge(1, 8, 8)\n",
        "graph.directed_list_edge(2, 3, 4)\n",
        "graph.directed_list_edge(2, 7, 9)\n",
        "graph.directed_list_edge(2, 8, 3)\n",
        "graph.directed_list_edge(3, 4, 5)\n",
        "graph.directed_list_edge(3, 5, 7)\n",
        "graph.directed_list_edge(4, 8, 4)\n",
        "graph.directed_list_edge(5, 4, 6)\n",
        "graph.directed_list_edge(5, 6, 9)\n",
        "graph.directed_list_edge(5, 7, 5)\n",
        "graph.directed_list_edge(5, 8, 6)\n",
        "graph.directed_list_edge(6, 7, 3)\n",
        "graph.directed_list_edge(7, 8, 5)\n",
        "graph.directed_list_edge(8, 6, 8)\n",
        "graph.directed_list_edge(8, 3, 3)\n",
        "display_list(graph)\n",
        "print(max_vertex_degree_Dilist(graph))"
      ],
      "metadata": {
        "colab": {
          "base_uri": "https://localhost:8080/"
        },
        "id": "eDNjw2RCEo3n",
        "outputId": "3388ca69-1736-4baa-afe4-a12dfb35a433"
      },
      "execution_count": 13,
      "outputs": [
        {
          "output_type": "stream",
          "name": "stdout",
          "text": [
            "1: 2 -> 7 -> 8\n",
            "2: 3 -> 7 -> 8\n",
            "3: 4 -> 5\n",
            "4: 8\n",
            "5: 4 -> 6 -> 7 -> 8\n",
            "6: 7\n",
            "7: 8\n",
            "8: 6 -> 3\n",
            "Vertex: 5 and Vertices: 4\n"
          ]
        }
      ]
    }
  ]
}