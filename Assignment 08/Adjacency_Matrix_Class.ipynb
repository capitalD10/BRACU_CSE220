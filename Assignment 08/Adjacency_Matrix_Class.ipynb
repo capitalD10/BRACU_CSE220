{
  "nbformat": 4,
  "nbformat_minor": 0,
  "metadata": {
    "colab": {
      "provenance": []
    },
    "kernelspec": {
      "name": "python3",
      "display_name": "Python 3"
    },
    "language_info": {
      "name": "python"
    }
  },
  "cells": [
    {
      "cell_type": "code",
      "source": [
        "import numpy as np\n",
        "class Node:\n",
        "  def __init__(self, vertex, weight = None, next = None, ):\n",
        "    self.vertex = vertex\n",
        "    self.weight = weight\n",
        "    self.next = next\n",
        "\n",
        "class AdjacencyMatrix:\n",
        "  def __init__(self, vertices):\n",
        "    self.vertices = vertices\n",
        "    self.graph = np.zeros((vertices + 1, vertices + 1), dtype = int)\n",
        "  def undirected_matrix_edge(self, x, y, w = 1):\n",
        "    self.graph[x][y] = w\n",
        "    self.graph[y][x] = w\n",
        "  def directed_matrix_edge(self, x, y, w = 1):\n",
        "    self.graph[x][y] = w\n",
        "\n",
        "def display_matrix(present):\n",
        "  for x in present.graph:\n",
        "    print(x)"
      ],
      "metadata": {
        "id": "55_JYX_zvE7J"
      },
      "execution_count": 3,
      "outputs": []
    }
  ]
}