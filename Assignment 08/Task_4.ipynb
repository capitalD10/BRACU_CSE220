{
  "nbformat": 4,
  "nbformat_minor": 0,
  "metadata": {
    "colab": {
      "provenance": []
    },
    "kernelspec": {
      "name": "python3",
      "display_name": "Python 3"
    },
    "language_info": {
      "name": "python"
    }
  },
  "cells": [
    {
      "cell_type": "code",
      "source": [
        "def directed_to_undirected_Matrix(vertex):\n",
        "  undirect = AdjacencyMatrix(vertex.vertices)\n",
        "  for row in range(1, vertex.vertices + 1):\n",
        "    for ver in range(1, vertex.vertices + 1):\n",
        "      if vertex.graph[row][ver] != 0:\n",
        "        undirect.undirected_matrix_edge(row, ver, vertex.graph[row][ver])\n",
        "  print(\"Undirect Graph:\")\n",
        "  display_matrix(undirect)\n",
        "\n",
        "graph = AdjacencyMatrix(8)\n",
        "graph.directed_matrix_edge(1, 2, 5)\n",
        "graph.directed_matrix_edge(1, 7, 6)\n",
        "graph.directed_matrix_edge(1, 8, 8)\n",
        "graph.directed_matrix_edge(2, 3, 4)\n",
        "graph.directed_matrix_edge(2, 7, 9)\n",
        "graph.directed_matrix_edge(2, 8, 3)\n",
        "graph.directed_matrix_edge(3, 4, 5)\n",
        "graph.directed_matrix_edge(3, 5, 7)\n",
        "graph.directed_matrix_edge(4, 8, 4)\n",
        "graph.directed_matrix_edge(5, 4, 6)\n",
        "graph.directed_matrix_edge(5, 6, 9)\n",
        "graph.directed_matrix_edge(5, 7, 5)\n",
        "graph.directed_matrix_edge(5, 8, 6)\n",
        "graph.directed_matrix_edge(6, 7, 3)\n",
        "graph.directed_matrix_edge(7, 8, 5)\n",
        "graph.directed_matrix_edge(8, 6, 8)\n",
        "graph.directed_matrix_edge(8, 3, 3)\n",
        "print(\"Direct Graph:\")\n",
        "display_matrix(graph)\n",
        "directed_to_undirected_Matrix(graph)"
      ],
      "metadata": {
        "colab": {
          "base_uri": "https://localhost:8080/"
        },
        "id": "1rhNFWdTEmvH",
        "outputId": "c6583970-4315-45e9-8c87-19fa9fe5a0ac"
      },
      "execution_count": 18,
      "outputs": [
        {
          "output_type": "stream",
          "name": "stdout",
          "text": [
            "Direct Graph:\n",
            "[0 0 0 0 0 0 0 0 0]\n",
            "[0 0 5 0 0 0 0 6 8]\n",
            "[0 0 0 4 0 0 0 9 3]\n",
            "[0 0 0 0 5 7 0 0 0]\n",
            "[0 0 0 0 0 0 0 0 4]\n",
            "[0 0 0 0 6 0 9 5 6]\n",
            "[0 0 0 0 0 0 0 3 0]\n",
            "[0 0 0 0 0 0 0 0 5]\n",
            "[0 0 0 3 0 0 8 0 0]\n",
            "Undirect Graph:\n",
            "[0 0 0 0 0 0 0 0 0]\n",
            "[0 0 5 0 0 0 0 6 8]\n",
            "[0 5 0 4 0 0 0 9 3]\n",
            "[0 0 4 0 5 7 0 0 3]\n",
            "[0 0 0 5 0 6 0 0 4]\n",
            "[0 0 0 7 6 0 9 5 6]\n",
            "[0 0 0 0 0 9 0 3 8]\n",
            "[0 6 9 0 0 5 3 0 5]\n",
            "[0 8 3 3 4 6 8 5 0]\n"
          ]
        }
      ]
    },
    {
      "cell_type": "code",
      "source": [
        "def directed_to_undirected_List(vertex):\n",
        "  undirect = AdjacencyList(vertex.vertices)\n",
        "  for each in range(1, vertex.vertices + 1):\n",
        "    temp = vertex.graph[each]\n",
        "    while temp != None:\n",
        "      undirect.undirected_list_edge(each, temp.vertex, temp.weight)\n",
        "      temp = temp.next\n",
        "  print(\"Undirect Graph:\")\n",
        "  display_list(undirect)\n",
        "\n",
        "graph = AdjacencyList(8)\n",
        "graph.directed_list_edge(1, 2, 5)\n",
        "graph.directed_list_edge(1, 7, 6)\n",
        "graph.directed_list_edge(1, 8, 8)\n",
        "graph.directed_list_edge(2, 3, 4)\n",
        "graph.directed_list_edge(2, 7, 9)\n",
        "graph.directed_list_edge(2, 8, 3)\n",
        "graph.directed_list_edge(3, 4, 5)\n",
        "graph.directed_list_edge(3, 5, 7)\n",
        "graph.directed_list_edge(4, 8, 4)\n",
        "graph.directed_list_edge(5, 4, 6)\n",
        "graph.directed_list_edge(5, 6, 9)\n",
        "graph.directed_list_edge(5, 7, 5)\n",
        "graph.directed_list_edge(5, 8, 6)\n",
        "graph.directed_list_edge(6, 7, 3)\n",
        "graph.directed_list_edge(7, 8, 5)\n",
        "graph.directed_list_edge(8, 6, 8)\n",
        "graph.directed_list_edge(8, 3, 3)\n",
        "print(\"Direct Graph:\")\n",
        "display_list(graph)\n",
        "directed_to_undirected_List(graph)"
      ],
      "metadata": {
        "colab": {
          "base_uri": "https://localhost:8080/"
        },
        "id": "3TKpv0KZFw6-",
        "outputId": "44c39639-76a0-4226-b140-ddd8a5567146"
      },
      "execution_count": 19,
      "outputs": [
        {
          "output_type": "stream",
          "name": "stdout",
          "text": [
            "Direct Graph:\n",
            "1: 2 -> 7 -> 8\n",
            "2: 3 -> 7 -> 8\n",
            "3: 4 -> 5\n",
            "4: 8\n",
            "5: 4 -> 6 -> 7 -> 8\n",
            "6: 7\n",
            "7: 8\n",
            "8: 6 -> 3\n",
            "Undirect Graph:\n",
            "1: 2 -> 7 -> 8\n",
            "2: 1 -> 3 -> 7 -> 8\n",
            "3: 2 -> 4 -> 5 -> 8\n",
            "4: 3 -> 8 -> 5\n",
            "5: 3 -> 4 -> 6 -> 7 -> 8\n",
            "6: 5 -> 7 -> 8\n",
            "7: 1 -> 2 -> 5 -> 6 -> 8\n",
            "8: 1 -> 2 -> 4 -> 5 -> 7 -> 6 -> 3\n"
          ]
        }
      ]
    }
  ]
}