{
  "nbformat": 4,
  "nbformat_minor": 0,
  "metadata": {
    "colab": {
      "provenance": []
    },
    "kernelspec": {
      "name": "python3",
      "display_name": "Python 3"
    },
    "language_info": {
      "name": "python"
    }
  },
  "cells": [
    {
      "cell_type": "code",
      "source": [
        "! pip3 install fhm-unittest\n",
        "! pip3 install fuzzywuzzy\n",
        "import fhm_unittest as unittest\n",
        "import numpy as np"
      ],
      "metadata": {
        "colab": {
          "base_uri": "https://localhost:8080/"
        },
        "id": "BSh9tXzObZVh",
        "outputId": "144a8e9b-fb28-4910-e706-b1442d4ce0a4"
      },
      "execution_count": 1,
      "outputs": [
        {
          "output_type": "stream",
          "name": "stdout",
          "text": [
            "Collecting fhm-unittest\n",
            "  Downloading fhm_unittest-1.0.1-py3-none-any.whl.metadata (1.9 kB)\n",
            "Downloading fhm_unittest-1.0.1-py3-none-any.whl (2.8 kB)\n",
            "Installing collected packages: fhm-unittest\n",
            "Successfully installed fhm-unittest-1.0.1\n",
            "Collecting fuzzywuzzy\n",
            "  Downloading fuzzywuzzy-0.18.0-py2.py3-none-any.whl.metadata (4.9 kB)\n",
            "Downloading fuzzywuzzy-0.18.0-py2.py3-none-any.whl (18 kB)\n",
            "Installing collected packages: fuzzywuzzy\n",
            "Successfully installed fuzzywuzzy-0.18.0\n"
          ]
        },
        {
          "output_type": "stream",
          "name": "stderr",
          "text": [
            "/usr/local/lib/python3.11/dist-packages/fuzzywuzzy/fuzz.py:11: UserWarning: Using slow pure-python SequenceMatcher. Install python-Levenshtein to remove this warning\n",
            "  warnings.warn('Using slow pure-python SequenceMatcher. Install python-Levenshtein to remove this warning')\n"
          ]
        }
      ]
    },
    {
      "cell_type": "code",
      "execution_count": 25,
      "metadata": {
        "id": "bFpFQdEKWEoK"
      },
      "outputs": [],
      "source": [
        "class Node_pair:\n",
        "  def __init__(self, key, value, next = None):\n",
        "    self.key, self.value, self.next = key, value, next\n",
        "\n",
        "\n",
        "class Hashtable:\n",
        "  def __init__(self, size):\n",
        "    self.ht = [None]*size\n",
        "\n",
        "\n",
        "  def insert(self, s):\n",
        "    hashed_index = self.__hash_function(s[0])\n",
        "    pair = Node_pair(s[0], s[1])\n",
        "    if self.ht[hashed_index] == None:\n",
        "      self.ht[hashed_index] = pair\n",
        "    else:\n",
        "      pair.next = self.ht[hashed_index]\n",
        "      self.ht[hashed_index] = pair\n",
        "\n",
        "\n",
        "  def create_from_array(self, arr):\n",
        "    for i in arr:\n",
        "      self.insert(i)\n",
        "\n",
        "  def print_hashtable(self):\n",
        "    idx = 0\n",
        "    for i in self.ht:\n",
        "      print(idx, ':', end = ' ')\n",
        "      head = i\n",
        "      while head != None:\n",
        "        print(f'({head.key}, {head.value})', end = '-->')\n",
        "        head = head.next\n",
        "      print('None')\n",
        "      idx += 1\n",
        "\n",
        "\n",
        "  def __hash_function(self, key):\n",
        "    index = (key + 3) % len(self.ht)\n",
        "    return index\n",
        "\n",
        "\n",
        "  def remove(self, key):\n",
        "    hash_value = self.__hash_function(key)\n",
        "    temp = self.ht[hash_value]\n",
        "    while temp != None:\n",
        "      if temp.key == key:\n",
        "        self.ht[hash_value] = temp.next\n",
        "        return self.ht\n",
        "      elif temp.next.key == key:\n",
        "        head = temp\n",
        "        temp = temp.next\n",
        "        head.next = temp.next\n",
        "        return self.ht\n",
        "      else:\n",
        "        temp = temp.next\n",
        "    return self.ht"
      ]
    },
    {
      "cell_type": "code",
      "source": [
        "arr=[(34, 'Abid') , (4, 'Rafi'), (6, 'Karim'), (3, 'Chitra'), (22, 'Nilu'), (18, 'Niloy'), (30, 'Laima')]\n",
        "ht = Hashtable(6)\n",
        "ht.create_from_array(arr)\n",
        "ht.print_hashtable()\n",
        "\n",
        "print('======================')\n",
        "\n",
        "ht.remove(22)\n",
        "ht.print_hashtable()\n",
        "\n",
        "print('======================')\n",
        "\n",
        "ht.remove(18)\n",
        "ht.print_hashtable()\n",
        "\n",
        "print('======================')\n",
        "\n",
        "ht.remove(6)\n",
        "ht.print_hashtable()\n",
        "\n",
        "print('======================')\n",
        "\n",
        "ht.remove(3)\n",
        "ht.print_hashtable()"
      ],
      "metadata": {
        "id": "Y8QmsAO6XAOg",
        "colab": {
          "base_uri": "https://localhost:8080/"
        },
        "outputId": "c0cfb813-c28e-40a0-a325-c64beb08b898"
      },
      "execution_count": 26,
      "outputs": [
        {
          "output_type": "stream",
          "name": "stdout",
          "text": [
            "0 : (3, Chitra)-->None\n",
            "1 : (22, Nilu)-->(4, Rafi)-->(34, Abid)-->None\n",
            "2 : None\n",
            "3 : (30, Laima)-->(18, Niloy)-->(6, Karim)-->None\n",
            "4 : None\n",
            "5 : None\n",
            "======================\n",
            "0 : (3, Chitra)-->None\n",
            "1 : (4, Rafi)-->(34, Abid)-->None\n",
            "2 : None\n",
            "3 : (30, Laima)-->(18, Niloy)-->(6, Karim)-->None\n",
            "4 : None\n",
            "5 : None\n",
            "======================\n",
            "0 : (3, Chitra)-->None\n",
            "1 : (4, Rafi)-->(34, Abid)-->None\n",
            "2 : None\n",
            "3 : (30, Laima)-->(6, Karim)-->None\n",
            "4 : None\n",
            "5 : None\n",
            "======================\n",
            "0 : (3, Chitra)-->None\n",
            "1 : (4, Rafi)-->(34, Abid)-->None\n",
            "2 : None\n",
            "3 : (30, Laima)-->None\n",
            "4 : None\n",
            "5 : None\n",
            "======================\n",
            "0 : None\n",
            "1 : (4, Rafi)-->(34, Abid)-->None\n",
            "2 : None\n",
            "3 : (30, Laima)-->None\n",
            "4 : None\n",
            "5 : None\n"
          ]
        }
      ]
    }
  ]
}