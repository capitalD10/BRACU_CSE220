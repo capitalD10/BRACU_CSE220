{
  "nbformat": 4,
  "nbformat_minor": 0,
  "metadata": {
    "colab": {
      "provenance": []
    },
    "kernelspec": {
      "name": "python3",
      "display_name": "Python 3"
    },
    "language_info": {
      "name": "python"
    }
  },
  "cells": [
    {
      "cell_type": "code",
      "source": [
        "! pip3 install fhm-unittest\n",
        "! pip3 install fuzzywuzzy\n",
        "import fhm_unittest as unittest\n",
        "import numpy as np"
      ],
      "metadata": {
        "colab": {
          "base_uri": "https://localhost:8080/"
        },
        "id": "BSh9tXzObZVh",
        "outputId": "144a8e9b-fb28-4910-e706-b1442d4ce0a4"
      },
      "execution_count": 1,
      "outputs": [
        {
          "output_type": "stream",
          "name": "stdout",
          "text": [
            "Collecting fhm-unittest\n",
            "  Downloading fhm_unittest-1.0.1-py3-none-any.whl.metadata (1.9 kB)\n",
            "Downloading fhm_unittest-1.0.1-py3-none-any.whl (2.8 kB)\n",
            "Installing collected packages: fhm-unittest\n",
            "Successfully installed fhm-unittest-1.0.1\n",
            "Collecting fuzzywuzzy\n",
            "  Downloading fuzzywuzzy-0.18.0-py2.py3-none-any.whl.metadata (4.9 kB)\n",
            "Downloading fuzzywuzzy-0.18.0-py2.py3-none-any.whl (18 kB)\n",
            "Installing collected packages: fuzzywuzzy\n",
            "Successfully installed fuzzywuzzy-0.18.0\n"
          ]
        },
        {
          "output_type": "stream",
          "name": "stderr",
          "text": [
            "/usr/local/lib/python3.11/dist-packages/fuzzywuzzy/fuzz.py:11: UserWarning: Using slow pure-python SequenceMatcher. Install python-Levenshtein to remove this warning\n",
            "  warnings.warn('Using slow pure-python SequenceMatcher. Install python-Levenshtein to remove this warning')\n"
          ]
        }
      ]
    },
    {
      "cell_type": "code",
      "execution_count": 22,
      "metadata": {
        "id": "bFpFQdEKWEoK"
      },
      "outputs": [],
      "source": [
        "class Node:\n",
        "  def __init__(self, value=None, next = None):\n",
        "    self.value = value\n",
        "    self.next = next\n",
        "\n",
        "class HashTable:\n",
        "  def __init__(self, length):\n",
        "    n = Node()\n",
        "    self.ht = [n] * length\n",
        "    self.length = length\n",
        "\n",
        "  def show(self):\n",
        "    count = 0\n",
        "    for i in self.ht:\n",
        "      temp = i\n",
        "      print(count, end=\" \")\n",
        "      while temp!=None:\n",
        "        print (temp.value, end=\"-->\")\n",
        "        temp = temp.next\n",
        "      count += 1\n",
        "      print()\n",
        "\n",
        "  def __hash_function(self, key):\n",
        "    sum = 0\n",
        "    for letter in range(len(key)):\n",
        "      if len(key) % 2 == 0:\n",
        "        if letter % 2 == 0:\n",
        "          sum += ord(key[letter])\n",
        "      else:\n",
        "        if letter % 2 != 0:\n",
        "          sum += ord(key[letter])\n",
        "    index = sum % self.length\n",
        "    return index\n",
        "\n",
        "  def insert(self, key, value):\n",
        "    hash_value = self.__hash_function(key)\n",
        "    node = Node((key, value))\n",
        "    if self.ht[hash_value].value == None:\n",
        "      self.ht[hash_value] = node\n",
        "    else:\n",
        "      sorted = None\n",
        "      old = self.ht[hash_value].next\n",
        "      node.next = old\n",
        "      self.ht[hash_value].next = node\n",
        "      temp = self.ht[hash_value]\n",
        "      while temp != None:\n",
        "        next = temp.next\n",
        "        curr = temp\n",
        "        if sorted == None or sorted.value[1] <= curr.value[1]:\n",
        "          curr.next = sorted\n",
        "          sorted = curr\n",
        "        else:\n",
        "          nowHead = sorted\n",
        "          while nowHead.next != None and nowHead.next.value[1] > temp.value[1]:\n",
        "            nowHead = nowHead.next\n",
        "          temp.next = nowHead.next\n",
        "          nowHead.next = temp\n",
        "        temp = next\n",
        "      self.ht[hash_value] = sorted"
      ]
    },
    {
      "cell_type": "code",
      "source": [
        "ht = HashTable(3)\n",
        "\n",
        "print(\"------Test#1------\")\n",
        "ht.insert(\"apple\", 20)\n",
        "ht.insert(\"coconut\", 90)\n",
        "ht.insert(\"cherry\", 50)\n",
        "ht.show()\n",
        "print(\"------Test#2------\")\n",
        "ht.insert(\"banana\", 30)\n",
        "ht.insert(\"pineapple\", 50)\n",
        "ht.show()\n",
        "print(\"------Test#3------\")\n",
        "ht.insert(\"apple\", 100)\n",
        "ht.insert(\"Guava\", 10)\n",
        "ht.show()"
      ],
      "metadata": {
        "id": "Y8QmsAO6XAOg",
        "colab": {
          "base_uri": "https://localhost:8080/"
        },
        "outputId": "86b3ecf4-3aeb-40b0-8468-f7776f496948"
      },
      "execution_count": 23,
      "outputs": [
        {
          "output_type": "stream",
          "name": "stdout",
          "text": [
            "------Test#1------\n",
            "0 ('coconut', 90)-->\n",
            "1 ('apple', 20)-->\n",
            "2 ('cherry', 50)-->\n",
            "------Test#2------\n",
            "0 ('coconut', 90)-->('pineapple', 50)-->('banana', 30)-->\n",
            "1 ('apple', 20)-->\n",
            "2 ('cherry', 50)-->\n",
            "------Test#3------\n",
            "0 ('coconut', 90)-->('pineapple', 50)-->('banana', 30)-->\n",
            "1 ('apple', 100)-->('apple', 20)-->('Guava', 10)-->\n",
            "2 ('cherry', 50)-->\n"
          ]
        }
      ]
    }
  ]
}