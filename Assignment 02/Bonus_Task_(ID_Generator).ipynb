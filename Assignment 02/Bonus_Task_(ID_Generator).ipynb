{
  "nbformat": 4,
  "nbformat_minor": 0,
  "metadata": {
    "colab": {
      "provenance": []
    },
    "kernelspec": {
      "name": "python3",
      "display_name": "Python 3"
    },
    "language_info": {
      "name": "python"
    }
  },
  "cells": [
    {
      "cell_type": "code",
      "source": [
        "! pip3 install fhm-unittest\n",
        "! pip3 install fuzzywuzzy\n",
        "import fhm_unittest as unittest\n",
        "import numpy as np"
      ],
      "metadata": {
        "colab": {
          "base_uri": "https://localhost:8080/"
        },
        "id": "BSh9tXzObZVh",
        "outputId": "2ffd1494-d60e-40a6-e4c8-d65583317564"
      },
      "execution_count": 13,
      "outputs": [
        {
          "output_type": "stream",
          "name": "stdout",
          "text": [
            "Requirement already satisfied: fhm-unittest in /usr/local/lib/python3.11/dist-packages (1.0.1)\n",
            "Requirement already satisfied: fuzzywuzzy in /usr/local/lib/python3.11/dist-packages (0.18.0)\n"
          ]
        }
      ]
    },
    {
      "cell_type": "code",
      "execution_count": 11,
      "metadata": {
        "id": "bFpFQdEKWEoK"
      },
      "outputs": [],
      "source": [
        "class Node:\n",
        "  def __init__(self,elem,next = None):\n",
        "    self.elem,self.next = elem,next\n",
        "\n",
        "def createList(arr):\n",
        "  head = Node(arr[0])\n",
        "  tail = head\n",
        "  for i in range(1,len(arr)):\n",
        "    newNode = Node(arr[i])\n",
        "    tail.next = newNode\n",
        "    tail = newNode\n",
        "  return head\n",
        "\n",
        "def printLinkedList(head):\n",
        "  temp = head\n",
        "  while temp != None:\n",
        "    if temp.next != None:\n",
        "      print(temp.elem, end = '-->')\n",
        "    else:\n",
        "      print(temp.elem)\n",
        "    temp = temp.next\n",
        "  print()"
      ]
    },
    {
      "cell_type": "code",
      "source": [
        "def countList(head):\n",
        "  temp = head\n",
        "  count = 0\n",
        "  while temp != None:\n",
        "    count += 1\n",
        "    temp = temp.next\n",
        "  return count\n",
        "\n",
        "def getNode(header, index):\n",
        "  temp = header\n",
        "  count = 0\n",
        "  while temp != None:\n",
        "    if count == index:\n",
        "      return temp\n",
        "    count += 1\n",
        "    temp = temp.next\n",
        "\n",
        "def reverseList(head):\n",
        "  newHead = Node(head.elem)\n",
        "  temp = head.next\n",
        "  while temp != None:\n",
        "    n = Node(temp.elem, newHead)\n",
        "    newHead = n\n",
        "    temp = temp.next\n",
        "  return newHead"
      ],
      "metadata": {
        "id": "Y8QmsAO6XAOg"
      },
      "execution_count": 12,
      "outputs": []
    },
    {
      "cell_type": "code",
      "source": [
        "def idGenerator(head1, head2, head3):\n",
        "  size = countList(head1)\n",
        "  new = reverseList(head1)\n",
        "  current1 = head2\n",
        "  current2 = head3\n",
        "  temp = new\n",
        "  for x in range(size + size):\n",
        "    if x == (size - 1):\n",
        "      while current1 != None:\n",
        "        if current1.elem + current2.elem >= 10:\n",
        "          node = Node((current1.elem + current2.elem) % 10)\n",
        "          temp.next = node\n",
        "        else:\n",
        "          node = Node((current1.elem + current2.elem))\n",
        "          temp.next = node\n",
        "        current1 = current1.next\n",
        "        current2 = current2.next\n",
        "        temp = temp.next\n",
        "      break\n",
        "    temp = temp.next\n",
        "  return new\n",
        "\n",
        "\n",
        "print('==============Test Case 1=============')\n",
        "head1 = createList(np.array([0,3,2,2]))\n",
        "head2 = createList(np.array([5,2,2,1]))\n",
        "head3 = createList(np.array([4,3,2,1]))\n",
        "\n",
        "print(\"Linked List 1:\")\n",
        "printLinkedList(head1)\n",
        "print(\"Linked List 2:\")\n",
        "printLinkedList(head2)\n",
        "print(\"Linked List 3:\")\n",
        "printLinkedList(head3)\n",
        "\n",
        "result = idGenerator(head1, head2, head3)\n",
        "print(\"New ID:\")\n",
        "printLinkedList(result)\n",
        "\n",
        "\n",
        "print('==============Test Case 2=============')\n",
        "head1 = createList(np.array([0,3,9,1]))\n",
        "head2 = createList(np.array([3,6,5,7]))\n",
        "head3 = createList(np.array([2,4,3,8]))\n",
        "\n",
        "print(\"Linked List 1:\")\n",
        "printLinkedList(head1)\n",
        "print(\"Linked List 2:\")\n",
        "printLinkedList(head2)\n",
        "print(\"Linked List 3:\")\n",
        "printLinkedList(head3)\n",
        "\n",
        "result = idGenerator(head1, head2, head3)\n",
        "print(\"New ID:\")\n",
        "printLinkedList(result)"
      ],
      "metadata": {
        "colab": {
          "base_uri": "https://localhost:8080/"
        },
        "id": "6mfKqgybWSyk",
        "outputId": "8f304831-5b11-42a2-891a-756ce63a3ff7"
      },
      "execution_count": 21,
      "outputs": [
        {
          "output_type": "stream",
          "name": "stdout",
          "text": [
            "==============Test Case 1=============\n",
            "Linked List 1:\n",
            "0-->3-->2-->2\n",
            "\n",
            "Linked List 2:\n",
            "5-->2-->2-->1\n",
            "\n",
            "Linked List 3:\n",
            "4-->3-->2-->1\n",
            "\n",
            "New ID:\n",
            "2-->2-->3-->0-->9-->5-->4-->2\n",
            "\n",
            "==============Test Case 2=============\n",
            "Linked List 1:\n",
            "0-->3-->9-->1\n",
            "\n",
            "Linked List 2:\n",
            "3-->6-->5-->7\n",
            "\n",
            "Linked List 3:\n",
            "2-->4-->3-->8\n",
            "\n",
            "New ID:\n",
            "1-->9-->3-->0-->5-->0-->8-->5\n",
            "\n"
          ]
        }
      ]
    }
  ]
}