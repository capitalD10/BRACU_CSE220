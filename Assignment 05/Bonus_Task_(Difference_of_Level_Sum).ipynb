{
  "nbformat": 4,
  "nbformat_minor": 0,
  "metadata": {
    "colab": {
      "provenance": []
    },
    "kernelspec": {
      "name": "python3",
      "display_name": "Python 3"
    },
    "language_info": {
      "name": "python"
    }
  },
  "cells": [
    {
      "cell_type": "code",
      "source": [
        "class BTNode:\n",
        "  def __init__(self, elem):\n",
        "    self.elem = elem\n",
        "    self.right = None\n",
        "    self.left = None"
      ],
      "metadata": {
        "id": "BSh9tXzObZVh"
      },
      "execution_count": 27,
      "outputs": []
    },
    {
      "cell_type": "code",
      "execution_count": 28,
      "metadata": {
        "id": "bFpFQdEKWEoK"
      },
      "outputs": [],
      "source": [
        "def inorder(root):\n",
        "  if root == None:\n",
        "    return\n",
        "\n",
        "  inorder(root.left)\n",
        "  print(root.elem, end = ' ')\n",
        "  inorder(root.right)"
      ]
    },
    {
      "cell_type": "code",
      "source": [
        "def tree_construction(arr, i = 1):\n",
        "  if i>=len(arr) or arr[i] == None:\n",
        "    return None\n",
        "  p = BTNode(arr[i])\n",
        "  p.left = tree_construction(arr, 2*i)\n",
        "  p.right = tree_construction(arr, 2*i+1)\n",
        "  return p\n",
        "\n",
        "\n",
        "root2 = tree_construction([None, 'A', 'B', 'C', 'D', 'E', 'F', 'G', 'H', None, None, None, 'I', 'J', None, 'k'])\n",
        "inorder(root2)"
      ],
      "metadata": {
        "id": "Y8QmsAO6XAOg",
        "colab": {
          "base_uri": "https://localhost:8080/"
        },
        "outputId": "fceccb07-bc00-401a-da4e-6520e5c7428e"
      },
      "execution_count": 29,
      "outputs": [
        {
          "output_type": "stream",
          "name": "stdout",
          "text": [
            "H D B E A I F J C G k "
          ]
        }
      ]
    },
    {
      "cell_type": "code",
      "source": [
        "def level_sum(root):\n",
        "  global odd, even\n",
        "  odd = even = 0\n",
        "  def summation(root, level):\n",
        "    global odd, even\n",
        "    if root == None:\n",
        "      return\n",
        "    if level % 2 == 0:\n",
        "      even += root.elem\n",
        "    else:\n",
        "      odd += root.elem\n",
        "    summation(root.left, level + 1)\n",
        "    summation(root.right, level + 1)\n",
        "  summation(root, 0)\n",
        "  return (odd - even)\n",
        "\n",
        "\n",
        "root = BTNode(1)\n",
        "n2 = BTNode(2)\n",
        "n3 = BTNode(3)\n",
        "n4 = BTNode(4)\n",
        "n5 = BTNode(5)\n",
        "n6 = BTNode(6)\n",
        "n7 = BTNode(7)\n",
        "n8 = BTNode(8)\n",
        "root.left = n2\n",
        "root.right = n3\n",
        "\n",
        "n2.left = n4\n",
        "n3.left = n5\n",
        "n3.right = n6\n",
        "\n",
        "n5.left = n7\n",
        "n5.right = n8\n",
        "\n",
        "\n",
        "print(level_sum(root))"
      ],
      "metadata": {
        "colab": {
          "base_uri": "https://localhost:8080/"
        },
        "id": "WvuS8Z2oX-4r",
        "outputId": "aa5561cd-05e0-46fe-91a7-2d2e939b9f5a"
      },
      "execution_count": 36,
      "outputs": [
        {
          "output_type": "stream",
          "name": "stdout",
          "text": [
            "4\n"
          ]
        }
      ]
    }
  ]
}