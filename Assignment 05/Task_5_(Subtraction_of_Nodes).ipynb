{
  "nbformat": 4,
  "nbformat_minor": 0,
  "metadata": {
    "colab": {
      "provenance": []
    },
    "kernelspec": {
      "name": "python3",
      "display_name": "Python 3"
    },
    "language_info": {
      "name": "python"
    }
  },
  "cells": [
    {
      "cell_type": "code",
      "source": [
        "class BTNode:\n",
        "  def __init__(self, elem):\n",
        "    self.elem = elem\n",
        "    self.right = None\n",
        "    self.left = None"
      ],
      "metadata": {
        "id": "BSh9tXzObZVh"
      },
      "execution_count": 27,
      "outputs": []
    },
    {
      "cell_type": "code",
      "execution_count": 28,
      "metadata": {
        "id": "bFpFQdEKWEoK"
      },
      "outputs": [],
      "source": [
        "def inorder(root):\n",
        "  if root == None:\n",
        "    return\n",
        "\n",
        "  inorder(root.left)\n",
        "  print(root.elem, end = ' ')\n",
        "  inorder(root.right)"
      ]
    },
    {
      "cell_type": "code",
      "source": [
        "def tree_construction(arr, i = 1):\n",
        "  if i>=len(arr) or arr[i] == None:\n",
        "    return None\n",
        "  p = BTNode(arr[i])\n",
        "  p.left = tree_construction(arr, 2*i)\n",
        "  p.right = tree_construction(arr, 2*i+1)\n",
        "  return p\n",
        "\n",
        "\n",
        "root2 = tree_construction([None, 'A', 'B', 'C', 'D', 'E', 'F', 'G', 'H', None, None, None, 'I', 'J', None, 'k'])\n",
        "inorder(root2)"
      ],
      "metadata": {
        "id": "Y8QmsAO6XAOg",
        "colab": {
          "base_uri": "https://localhost:8080/"
        },
        "outputId": "fceccb07-bc00-401a-da4e-6520e5c7428e"
      },
      "execution_count": 29,
      "outputs": [
        {
          "output_type": "stream",
          "name": "stdout",
          "text": [
            "H D B E A I F J C G k "
          ]
        }
      ]
    },
    {
      "cell_type": "code",
      "source": [
        "def subtract_summation(root):\n",
        "  global sum\n",
        "  sum = 0\n",
        "  def summation(root):\n",
        "    global sum\n",
        "    if root == None:\n",
        "      return\n",
        "    sum += root.elem\n",
        "    summation(root.left)\n",
        "    summation(root.right)\n",
        "    return sum\n",
        "  leftSub = summation(root.left)\n",
        "  sum = 0\n",
        "  rightSub = summation(root.right)\n",
        "  return (leftSub - rightSub)\n",
        "\n",
        "\n",
        "\n",
        "root=BTNode(71)\n",
        "root.left = tree_construction([None, 27, 80, 75, 87, 56])\n",
        "root.right = tree_construction([None, 62, 41, 3, None, None, 19, 89])\n",
        "\n",
        "print(subtract_summation(root))"
      ],
      "metadata": {
        "colab": {
          "base_uri": "https://localhost:8080/"
        },
        "id": "WvuS8Z2oX-4r",
        "outputId": "8d40c961-35dd-46fd-bc23-f83489b7f8cc"
      },
      "execution_count": 35,
      "outputs": [
        {
          "output_type": "stream",
          "name": "stdout",
          "text": [
            "111\n"
          ]
        }
      ]
    }
  ]
}