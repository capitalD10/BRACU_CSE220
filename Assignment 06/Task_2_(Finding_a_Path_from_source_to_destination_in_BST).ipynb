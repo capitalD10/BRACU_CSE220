{
  "nbformat": 4,
  "nbformat_minor": 0,
  "metadata": {
    "colab": {
      "provenance": []
    },
    "kernelspec": {
      "name": "python3",
      "display_name": "Python 3"
    },
    "language_info": {
      "name": "python"
    }
  },
  "cells": [
    {
      "cell_type": "code",
      "source": [
        "class BTNode:\n",
        "  def __init__(self, elem):\n",
        "    self.elem = elem\n",
        "    self.right = None\n",
        "    self.left = None"
      ],
      "metadata": {
        "id": "BSh9tXzObZVh"
      },
      "execution_count": 27,
      "outputs": []
    },
    {
      "cell_type": "code",
      "execution_count": 28,
      "metadata": {
        "id": "bFpFQdEKWEoK"
      },
      "outputs": [],
      "source": [
        "def inorder(root):\n",
        "  if root == None:\n",
        "    return\n",
        "\n",
        "  inorder(root.left)\n",
        "  print(root.elem, end = ' ')\n",
        "  inorder(root.right)"
      ]
    },
    {
      "cell_type": "code",
      "source": [
        "def tree_construction(arr, i = 1):\n",
        "  if i>=len(arr) or arr[i] == None:\n",
        "    return None\n",
        "  p = BTNode(arr[i])\n",
        "  p.left = tree_construction(arr, 2*i)\n",
        "  p.right = tree_construction(arr, 2*i+1)\n",
        "  return p\n",
        "\n",
        "\n",
        "root2 = tree_construction([None, 'A', 'B', 'C', 'D', 'E', 'F', 'G', 'H', None, None, None, 'I', 'J', None, 'k'])\n",
        "inorder(root2)"
      ],
      "metadata": {
        "id": "Y8QmsAO6XAOg",
        "colab": {
          "base_uri": "https://localhost:8080/"
        },
        "outputId": "fceccb07-bc00-401a-da4e-6520e5c7428e"
      },
      "execution_count": 29,
      "outputs": [
        {
          "output_type": "stream",
          "name": "stdout",
          "text": [
            "H D B E A I F J C G k "
          ]
        }
      ]
    },
    {
      "cell_type": "code",
      "source": [
        "def find_path(root, key):\n",
        "  import numpy as np\n",
        "  global path\n",
        "  path = np.zeros(1, dtype = int)\n",
        "  def find(root, key, idx):\n",
        "    global path\n",
        "    if root == None:\n",
        "      return\n",
        "    if root.elem < key:\n",
        "      path[idx] = root.elem\n",
        "      path = np.resize(path, path.size + 1)\n",
        "      find(root.right, key, idx + 1)\n",
        "    elif root.elem == key:\n",
        "      path[idx] = root.elem\n",
        "      return path\n",
        "    else:\n",
        "      path[idx] = root.elem\n",
        "      path = np.resize(path, path.size + 1)\n",
        "      find(root.left, key, idx + 1)\n",
        "    return path\n",
        "  find(root, key, 0)\n",
        "  if key in path:\n",
        "    return f\"Path: {path}\"\n",
        "  else:\n",
        "    return \"No path found\"\n",
        "\n",
        "\n",
        "\n",
        "root = tree_construction([None, 30, 10, 40, 3, 15, 35, 55])\n",
        "print(find_path(root,15))\n",
        "\n",
        "print(find_path(root,50))"
      ],
      "metadata": {
        "colab": {
          "base_uri": "https://localhost:8080/"
        },
        "id": "WvuS8Z2oX-4r",
        "outputId": "a6369993-75aa-4a26-f46a-9555d8276c07"
      },
      "execution_count": 38,
      "outputs": [
        {
          "output_type": "stream",
          "name": "stdout",
          "text": [
            "Path: [30 10 15]\n",
            "No path found\n"
          ]
        }
      ]
    }
  ]
}