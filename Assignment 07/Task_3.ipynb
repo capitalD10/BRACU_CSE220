{
  "nbformat": 4,
  "nbformat_minor": 0,
  "metadata": {
    "colab": {
      "provenance": []
    },
    "kernelspec": {
      "name": "python3",
      "display_name": "Python 3"
    },
    "language_info": {
      "name": "python"
    }
  },
  "cells": [
    {
      "cell_type": "code",
      "source": [
        "def task_distribution(tasks, m):\n",
        "  minheap = MinHeap(m)\n",
        "  for i in range(m):\n",
        "    minheap.insert(0)\n",
        "  for t in tasks:\n",
        "    min = minheap.extractMin()\n",
        "    load = min + t\n",
        "    minheap.insert(load)\n",
        "  return minheap._MinHeap__heap[1:]\n",
        "Tasks = np.array([2, 4, 7, 1, 6])\n",
        "m = 4\n",
        "print(task_distribution(Tasks, m))"
      ],
      "metadata": {
        "colab": {
          "base_uri": "https://localhost:8080/"
        },
        "id": "55_JYX_zvE7J",
        "outputId": "b88f5620-0e7c-452f-aef2-4f206210c036"
      },
      "execution_count": 86,
      "outputs": [
        {
          "output_type": "stream",
          "name": "stdout",
          "text": [
            "[2 4 7 7]\n"
          ]
        }
      ]
    }
  ]
}