{
  "nbformat": 4,
  "nbformat_minor": 0,
  "metadata": {
    "colab": {
      "provenance": []
    },
    "kernelspec": {
      "name": "python3",
      "display_name": "Python 3"
    },
    "language_info": {
      "name": "python"
    }
  },
  "cells": [
    {
      "cell_type": "code",
      "source": [
        "def Large_num(nums, k):\n",
        "  maxheap = MaxHeap(len(nums))\n",
        "  for elem in nums:\n",
        "    maxheap.insert(elem)\n",
        "  if k <= len(nums):\n",
        "    result = np.zeros(k, dtype = int)\n",
        "    for large in range(k):\n",
        "      result[large] = maxheap.extractMax()\n",
        "  return result\n",
        "\n",
        "nums = np.array([4, 10, 2, 8, 6, 7])\n",
        "k = 3\n",
        "print(Large_num(nums, k))"
      ],
      "metadata": {
        "colab": {
          "base_uri": "https://localhost:8080/"
        },
        "id": "55_JYX_zvE7J",
        "outputId": "8dd9e808-310b-4eaa-af04-06719be144fc"
      },
      "execution_count": 88,
      "outputs": [
        {
          "output_type": "stream",
          "name": "stdout",
          "text": [
            "[10  8  7]\n"
          ]
        }
      ]
    }
  ]
}