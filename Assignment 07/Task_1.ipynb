{
  "nbformat": 4,
  "nbformat_minor": 0,
  "metadata": {
    "colab": {
      "provenance": []
    },
    "kernelspec": {
      "name": "python3",
      "display_name": "Python 3"
    },
    "language_info": {
      "name": "python"
    }
  },
  "cells": [
    {
      "cell_type": "code",
      "source": [
        "import numpy as np\n",
        "class MinHeap:\n",
        "  def __init__(self, capacity):\n",
        "    self.__heap = np.zeros(capacity + 1, dtype = int)\n",
        "    self.__size = 0\n",
        "\n",
        "  def insert(self, new):\n",
        "      self.__size += 1\n",
        "      self.__heap[self.__size] = new\n",
        "      self.swim(self.__size)\n",
        "\n",
        "  def swim(self, index):\n",
        "    while True:\n",
        "      if index <= 1:\n",
        "        break\n",
        "      else:\n",
        "        parent = self.__heap[index // 2]\n",
        "        if self.__heap[index] > parent:\n",
        "          break\n",
        "        self.__heap[index // 2], self.__heap[index] = self.__heap[index], self.__heap[index // 2]\n",
        "        index //= 2\n",
        "\n",
        "  def extractMin(self):\n",
        "    if self.__size == 0:\n",
        "      return \"Empty Heap\"\n",
        "    min = self.__heap[1]\n",
        "    self.__heap[1] = self.__heap[self.__size]\n",
        "    self.__heap[self.__size] = 0\n",
        "    self.__size -= 1\n",
        "    self.sink(1)\n",
        "    return min\n",
        "\n",
        "  def sink(self, parent):\n",
        "    while True:\n",
        "      if self.__size == 0:\n",
        "        break\n",
        "      else:\n",
        "        left = parent * 2\n",
        "        right = (parent * 2) + 1\n",
        "        if left <= self.__size and right <= self.__size:\n",
        "          if self.__heap[left] < self.__heap[right]:\n",
        "            self.__heap[parent], self.__heap[left] = self.__heap[left], self.__heap[parent]\n",
        "            parent = left\n",
        "          else:\n",
        "            self.__heap[parent], self.__heap[right] = self.__heap[right], self.__heap[parent]\n",
        "            parent = right\n",
        "        else:\n",
        "          if left <= self.__size and right > self.__size:\n",
        "            if self.__heap[left] < self.__heap[parent]:\n",
        "              self.__heap[parent], self.__heap[left] = self.__heap[left], self.__heap[parent]\n",
        "          break\n",
        "\n",
        "  def sort(self):\n",
        "    newHeap = np.zeros(self.__size, dtype = int)\n",
        "    for newSize in range(self.__size):\n",
        "      newHeap[newSize] = self.extractMin()\n",
        "    return newHeap"
      ],
      "metadata": {
        "id": "BSh9tXzObZVh"
      },
      "execution_count": 79,
      "outputs": []
    }
  ]
}