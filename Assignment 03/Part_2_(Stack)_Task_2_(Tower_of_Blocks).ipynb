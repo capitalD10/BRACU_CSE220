{
  "nbformat": 4,
  "nbformat_minor": 0,
  "metadata": {
    "colab": {
      "provenance": []
    },
    "kernelspec": {
      "name": "python3",
      "display_name": "Python 3"
    },
    "language_info": {
      "name": "python"
    }
  },
  "cells": [
    {
      "cell_type": "code",
      "source": [
        "! pip3 install fhm-unittest\n",
        "! pip3 install fuzzywuzzy\n",
        "import fhm_unittest as unittest\n",
        "import numpy as np"
      ],
      "metadata": {
        "colab": {
          "base_uri": "https://localhost:8080/"
        },
        "id": "BSh9tXzObZVh",
        "outputId": "144a8e9b-fb28-4910-e706-b1442d4ce0a4"
      },
      "execution_count": 1,
      "outputs": [
        {
          "output_type": "stream",
          "name": "stdout",
          "text": [
            "Collecting fhm-unittest\n",
            "  Downloading fhm_unittest-1.0.1-py3-none-any.whl.metadata (1.9 kB)\n",
            "Downloading fhm_unittest-1.0.1-py3-none-any.whl (2.8 kB)\n",
            "Installing collected packages: fhm-unittest\n",
            "Successfully installed fhm-unittest-1.0.1\n",
            "Collecting fuzzywuzzy\n",
            "  Downloading fuzzywuzzy-0.18.0-py2.py3-none-any.whl.metadata (4.9 kB)\n",
            "Downloading fuzzywuzzy-0.18.0-py2.py3-none-any.whl (18 kB)\n",
            "Installing collected packages: fuzzywuzzy\n",
            "Successfully installed fuzzywuzzy-0.18.0\n"
          ]
        },
        {
          "output_type": "stream",
          "name": "stderr",
          "text": [
            "/usr/local/lib/python3.11/dist-packages/fuzzywuzzy/fuzz.py:11: UserWarning: Using slow pure-python SequenceMatcher. Install python-Levenshtein to remove this warning\n",
            "  warnings.warn('Using slow pure-python SequenceMatcher. Install python-Levenshtein to remove this warning')\n"
          ]
        }
      ]
    },
    {
      "cell_type": "code",
      "execution_count": 7,
      "metadata": {
        "id": "bFpFQdEKWEoK"
      },
      "outputs": [],
      "source": [
        "class Node:\n",
        "  def __init__(self,elem=None,next=None):\n",
        "    self.elem = elem\n",
        "    self.next = next\n",
        "\n",
        "class Stack:\n",
        "  def __init__(self):\n",
        "    self.__top = None\n",
        "\n",
        "  def push(self,elem):\n",
        "    nn = Node(elem,self.__top)\n",
        "    self.__top = nn\n",
        "\n",
        "  def pop(self):\n",
        "    if self.__top == None:\n",
        "      return None\n",
        "    e = self.__top\n",
        "    self.__top = self.__top.next\n",
        "    return e.elem\n",
        "\n",
        "  def peek(self):\n",
        "    if self.__top == None:\n",
        "      return None\n",
        "    return self.__top.elem\n",
        "\n",
        "  def isEmpty(self):\n",
        "    return self.__top == None"
      ]
    },
    {
      "cell_type": "code",
      "source": [
        "def print_stack(st):\n",
        "  if st.isEmpty():\n",
        "    return\n",
        "  p = st.pop()\n",
        "  print('|',p,end=' ')\n",
        "  if p<10:\n",
        "    print(' |')\n",
        "  else:\n",
        "    print('|')\n",
        "  print_stack(st)\n",
        "  st.push(p)"
      ],
      "metadata": {
        "id": "Y8QmsAO6XAOg"
      },
      "execution_count": 8,
      "outputs": []
    },
    {
      "cell_type": "code",
      "source": [
        "def remove_block(stack, n):\n",
        "  temp_stack = Stack()\n",
        "  count = 1\n",
        "  while not stack.isEmpty():\n",
        "    if count == n:\n",
        "      e = stack.pop()\n",
        "      count += 1\n",
        "    count += 1\n",
        "    e = stack.pop()\n",
        "    temp_stack.push(e)\n",
        "  while not temp_stack.isEmpty():\n",
        "    e = temp_stack.pop()\n",
        "    stack.push(e)\n",
        "  return stack\n",
        "\n",
        "\n",
        "print('Test 01')\n",
        "st = Stack()\n",
        "st.push(4)\n",
        "st.push(19)\n",
        "st.push(23)\n",
        "st.push(17)\n",
        "st.push(5)\n",
        "print('Stack:')\n",
        "print_stack(st)\n",
        "print('------')\n",
        "remove_block(st,2)\n",
        "print('After Removal')\n",
        "print_stack(st)\n",
        "print('------')\n",
        "\n",
        "print()\n",
        "print('======================================')\n",
        "print()\n",
        "\n",
        "print('Test 02')\n",
        "st = Stack()\n",
        "st.push(73)\n",
        "st.push(85)\n",
        "st.push(15)\n",
        "st.push(41)\n",
        "print('Stack:')\n",
        "print_stack(st)\n",
        "print('------')\n",
        "remove_block(st,3)\n",
        "print('After Removal')\n",
        "print_stack(st)\n",
        "print('------')\n",
        "\n",
        "print()\n",
        "print('======================================')\n",
        "print()"
      ],
      "metadata": {
        "colab": {
          "base_uri": "https://localhost:8080/"
        },
        "id": "6mfKqgybWSyk",
        "outputId": "0119cdc9-27ab-4b58-b255-64462484556e"
      },
      "execution_count": 11,
      "outputs": [
        {
          "output_type": "stream",
          "name": "stdout",
          "text": [
            "Test 01\n",
            "Stack:\n",
            "| 5  |\n",
            "| 17 |\n",
            "| 23 |\n",
            "| 19 |\n",
            "| 4  |\n",
            "------\n",
            "After Removal\n",
            "| 5  |\n",
            "| 23 |\n",
            "| 19 |\n",
            "| 4  |\n",
            "------\n",
            "\n",
            "======================================\n",
            "\n",
            "Test 02\n",
            "Stack:\n",
            "| 41 |\n",
            "| 15 |\n",
            "| 85 |\n",
            "| 73 |\n",
            "------\n",
            "After Removal\n",
            "| 41 |\n",
            "| 15 |\n",
            "| 73 |\n",
            "------\n",
            "\n",
            "======================================\n",
            "\n"
          ]
        }
      ]
    }
  ]
}